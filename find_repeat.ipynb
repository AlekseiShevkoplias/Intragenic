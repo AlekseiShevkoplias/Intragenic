{
  "nbformat": 4,
  "nbformat_minor": 0,
  "metadata": {
    "colab": {
      "name": "find repeat",
      "provenance": [],
      "collapsed_sections": [],
      "include_colab_link": true
    },
    "kernelspec": {
      "name": "python3",
      "display_name": "Python 3"
    },
    "accelerator": "GPU"
  },
  "cells": [
    {
      "cell_type": "markdown",
      "metadata": {
        "id": "view-in-github",
        "colab_type": "text"
      },
      "source": [
        "<a href=\"https://colab.research.google.com/github/AlekseiShevkoplias/Intragenic/blob/rubbish/find_repeat.ipynb\" target=\"_parent\"><img src=\"https://colab.research.google.com/assets/colab-badge.svg\" alt=\"Open In Colab\"/></a>"
      ]
    },
    {
      "cell_type": "code",
      "metadata": {
        "id": "qjhkdZUzp6t-"
      },
      "source": [
        "import numpy as np"
      ],
      "execution_count": null,
      "outputs": []
    },
    {
      "cell_type": "code",
      "metadata": {
        "id": "hvnVd-CkPE0o"
      },
      "source": [
        "import random\n",
        "\n",
        "art_wins = []\n",
        "lets = [\"A\", \"C\", \"U\", \"G\"]\n",
        "\n",
        "def complement(s):\n",
        "    comp = {\"A\":\"U\", \"U\":\"A\", \"C\":\"G\", \"G\":\"C\"}\n",
        "    return(\"\".join([comp[x] for x in s]))\n",
        "\n",
        "def rev_complement(s):\n",
        "    comp = {\"A\":\"U\", \"U\":\"A\", \"C\":\"G\", \"G\":\"C\"}\n",
        "    return(\"\".join([comp[x] for x in s][::-1]))\n",
        "\n",
        "def gen_rand_string():\n",
        "    \"\"\"\n",
        "    Со вставленным комплементом\n",
        "    \"\"\"\n",
        "    s = ''\n",
        "    for i in range(201):\n",
        "        s += random.choice(lets)\n",
        "    mid = s[97:104]\n",
        "    i = random.randint(0, len(s))\n",
        "    while (i > 90 and i < 105) or i > 193:\n",
        "        i = random.randint(0, len(s))\n",
        "    s = s[:i] + rev_complement(mid) + s[i+7:] ############\n",
        "    return s\n",
        "\n",
        "def gen_rubbish_string():\n",
        "    \"\"\"\n",
        "    Без вставленного комплемента\n",
        "    \"\"\"\n",
        "    s = ''\n",
        "    for i in range(100):\n",
        "        s += random.choice(lets)\n",
        "    s += 'X'\n",
        "    for i in range(100):\n",
        "        s += random.choice(lets)\n",
        "    return s"
      ],
      "execution_count": 18,
      "outputs": []
    },
    {
      "cell_type": "code",
      "metadata": {
        "id": "xoyfnkCwQlVi"
      },
      "source": [
        "train_wins = [gen_rand_string() for _ in range(30000)]\n",
        "test_wins = [gen_rand_string() for _ in range(5000)]\n",
        "train_loses = [gen_rubbish_string() for _ in range(30000)]\n",
        "test_loses = [gen_rubbish_string() for _ in range(5000)]"
      ],
      "execution_count": 19,
      "outputs": []
    },
    {
      "cell_type": "code",
      "metadata": {
        "id": "8W1GFOVRwAsk"
      },
      "source": [
        "\n",
        "def recode_ans(l):\n",
        "    bases_np        = {\n",
        "                        \"A\": np.array([1, 0, 0, 0], dtype = np.float32),\n",
        "                        \"C\": np.array([0, 1, 0, 0], dtype = np.float32),\n",
        "                        \"G\": np.array([0, 0, 1, 0], dtype = np.float32),\n",
        "                        \"U\": np.array([0, 0, 0, 1], dtype = np.float32),\n",
        "                        \"X\": np.array([0, 0, 0, 0], dtype = np.float32)\n",
        "                        }\n",
        "\n",
        "    return bases_np[l]\n",
        "\n",
        "def recode_data(s):\n",
        "    bases_dict     = {\"A\": 0, \"C\": 1, \"G\": 2, \"U\": 3, \"X\": 4}\n",
        "    bases_list = [\"A\", \"C\", \"G\", \"U\", \"X\"]\n",
        "    seq_np = np.zeros((len(s), 4), dtype = np.float32) \n",
        "    for index in range(len(s)):\n",
        "        base = s[index]\n",
        "        if base in bases_list:\n",
        "            channel = bases_dict[base]\n",
        "            seq_np[index, channel] = 1\n",
        "        else:\n",
        "            if base == \"N\":\n",
        "                continue\n",
        "            print(\"alternative base\", base, \"!\")\n",
        "            return None\n",
        "    return seq_np\n",
        "\n",
        "def recode_data_new(s):\n",
        "    bases_dict     = {\"A\": 0, \"C\": 1, \"G\": 2, \"U\": 3, \"X\": 4}\n",
        "    bases_list = [\"A\", \"C\", \"G\", \"U\", \"X\"]\n",
        "    mid = recode_data(s[97:100] + s[101:104])\n",
        "    mid_addition = mid.flatten()\n",
        "\n",
        "    seq_np = np.zeros((len(s), 28), dtype = np.float32) \n",
        "    for index in range(len(s)):\n",
        "        base = s[index]\n",
        "        if base in bases_list:\n",
        "            channel = bases_dict[base]\n",
        "            seq_np[index, channel] = 1\n",
        "        else:\n",
        "            if base == \"N\":\n",
        "                continue\n",
        "            print(\"alternative base\", base, \"!\")\n",
        "            return None\n",
        "        for i in range(4, 28):\n",
        "            seq_np[index, i] = mid_addition[i-4]\n",
        "    return seq_np"
      ],
      "execution_count": 20,
      "outputs": []
    },
    {
      "cell_type": "code",
      "metadata": {
        "id": "_lCH-8Faw56S"
      },
      "source": [
        "def recode_samples(train, test):\n",
        "    train_q = np.array([recode_data(x[:100] + \"N\" + x[101:]) for x in train])\n",
        "    train_ans = np.array([recode_ans(x[100]) for x in train])\n",
        "\n",
        "    test_q = np.array([recode_data(x[:100] + \"N\" + x[101:]) for x in test])\n",
        "    test_ans = np.array([recode_ans(x[100]) for x in test])\n",
        "    return train_q, train_ans, test_q, test_ans\n",
        "\n",
        "train_q, train_ans, test_q, test_ans = recode_samples(train_wins, test_wins)"
      ],
      "execution_count": 21,
      "outputs": []
    },
    {
      "cell_type": "code",
      "metadata": {
        "id": "DoJ2QNgGhDPd",
        "colab": {
          "base_uri": "https://localhost:8080/"
        },
        "outputId": "36fc30ac-1e81-42dc-85ea-ed6c9469e79c"
      },
      "source": [
        "def show_arr(x):\n",
        "    s = np.sum((i+1)*x[..., i::4] for i in range(4))\n",
        "    for i in range(s.shape[1]):\n",
        "        print(''.join((str(int(c)) for c in s[:, i])))\n",
        "show_arr(train_q[100])\n",
        "train_ans[100]"
      ],
      "execution_count": 22,
      "outputs": [
        {
          "output_type": "stream",
          "text": [
            "234444121443343224143244313311114242242223333432223331111234332341114431132122142141143142341422431402313244334234432223344313414322312231313243143334123333213443434324211243223233412421344411144434443\n"
          ],
          "name": "stdout"
        },
        {
          "output_type": "stream",
          "text": [
            "/usr/local/lib/python3.6/dist-packages/ipykernel_launcher.py:2: DeprecationWarning: Calling np.sum(generator) is deprecated, and in the future will give a different result. Use np.sum(np.fromiter(generator)) or the python sum builtin instead.\n",
            "  \n"
          ],
          "name": "stderr"
        },
        {
          "output_type": "execute_result",
          "data": {
            "text/plain": [
              "array([1., 0., 0., 0.], dtype=float32)"
            ]
          },
          "metadata": {
            "tags": []
          },
          "execution_count": 22
        }
      ]
    },
    {
      "cell_type": "code",
      "metadata": {
        "id": "rlMDAkpXudE1"
      },
      "source": [
        "import tensorflow as tf\n",
        "import tensorflow.keras as keras\n",
        "import tensorflow.keras.backend as K\n",
        "from tensorflow.keras.models import Sequential\n",
        "from tensorflow.keras.layers import Conv1D, MaxPool1D\n",
        "from tensorflow.keras.regularizers import l2\n",
        "from tensorflow.keras.layers import Activation, Dropout, Flatten, Dense, Input, GRU, Bidirectional, GlobalAveragePooling1D, GlobalMaxPooling1D, Concatenate, Lambda, Add, Attention\n",
        "from tensorflow.keras.models import Model\n",
        "from tensorflow.keras.optimizers import RMSprop, SGD, Adam\n",
        "from tensorflow.keras.callbacks import EarlyStopping\n",
        "import matplotlib.pyplot as plt"
      ],
      "execution_count": 23,
      "outputs": []
    },
    {
      "cell_type": "code",
      "metadata": {
        "id": "2zweJKQvXeZP"
      },
      "source": [
        "val_q, tr_q = train_q[:10000], train_q[10000:]\n",
        "val_ans, tr_ans = train_ans[:10000], train_ans[10000:]"
      ],
      "execution_count": 24,
      "outputs": []
    },
    {
      "cell_type": "code",
      "metadata": {
        "id": "hnq3dzizu0Hs",
        "colab": {
          "base_uri": "https://localhost:8080/",
          "height": 1000
        },
        "outputId": "36e8691f-870a-4496-a986-ad15187ea31d"
      },
      "source": [
        "ms = []\n",
        "\n",
        "def run_model():\n",
        "    inp = Input((201, 4))\n",
        "    cur_p = Conv1D(filters=32, kernel_size=10, padding='SAME')(inp)\n",
        "    cur_p2 = Conv1D(filters=32, kernel_size=10, padding='SAME')(inp)\n",
        "    cur = Attention()([cur_p, inp, cur_p2])\n",
        "    cur = Flatten()(cur)\n",
        "    cur = Dense(4, activation='softmax')(cur)\n",
        "    model = Model(inp, cur)\n",
        "\n",
        "    model.compile(optimizer=Adam(lr=0.001), loss='categorical_crossentropy', metrics=['accuracy', 'categorical_crossentropy'])    \n",
        "    model.summary()\n",
        "\n",
        "    es = EarlyStopping(monitor='val_loss', mode='min', patience=8, restore_best_weights=True)\n",
        "    callbacks = []\n",
        "    callbacks.append(es)\n",
        "\n",
        "    history = model.fit(tr_q, tr_ans, epochs=40,  batch_size=32, validation_data=(val_q, val_ans), callbacks=callbacks, verbose=1)\n",
        "    \n",
        "    def show(history, acc_on=True):\n",
        "        for k, v in history.history.items():\n",
        "            if int('acc' not in k) + int(acc_on) == 1:\n",
        "                plt.plot(v, label=k)\n",
        "        plt.legend()\n",
        "        plt.show()\n",
        "    show(history, True)\n",
        "    show(history, False)\n",
        "\n",
        "    ms.append(model)\n",
        "    loss, test_acc, test_cat = model.evaluate(test_q, test_ans, verbose=1)\n",
        "    return test_acc\n",
        "\n",
        "accs = [run_model() for _ in range(1)]"
      ],
      "execution_count": 25,
      "outputs": [
        {
          "output_type": "stream",
          "text": [
            "Model: \"model\"\n",
            "__________________________________________________________________________________________________\n",
            "Layer (type)                    Output Shape         Param #     Connected to                     \n",
            "==================================================================================================\n",
            "input_1 (InputLayer)            [(None, 201, 4)]     0                                            \n",
            "__________________________________________________________________________________________________\n",
            "conv1d (Conv1D)                 (None, 201, 32)      1312        input_1[0][0]                    \n",
            "__________________________________________________________________________________________________\n",
            "conv1d_1 (Conv1D)               (None, 201, 32)      1312        input_1[0][0]                    \n",
            "__________________________________________________________________________________________________\n",
            "attention (Attention)           (None, 201, 4)       0           conv1d[0][0]                     \n",
            "                                                                 input_1[0][0]                    \n",
            "                                                                 conv1d_1[0][0]                   \n",
            "__________________________________________________________________________________________________\n",
            "flatten (Flatten)               (None, 804)          0           attention[0][0]                  \n",
            "__________________________________________________________________________________________________\n",
            "dense (Dense)                   (None, 4)            3220        flatten[0][0]                    \n",
            "==================================================================================================\n",
            "Total params: 5,844\n",
            "Trainable params: 5,844\n",
            "Non-trainable params: 0\n",
            "__________________________________________________________________________________________________\n",
            "Epoch 1/40\n",
            "625/625 [==============================] - 9s 4ms/step - loss: 1.3966 - accuracy: 0.2539 - categorical_crossentropy: 1.3966 - val_loss: 1.4080 - val_accuracy: 0.2520 - val_categorical_crossentropy: 1.4080\n",
            "Epoch 2/40\n",
            "625/625 [==============================] - 2s 4ms/step - loss: 1.3917 - accuracy: 0.2758 - categorical_crossentropy: 1.3917 - val_loss: 1.4190 - val_accuracy: 0.2592 - val_categorical_crossentropy: 1.4190\n",
            "Epoch 3/40\n",
            "625/625 [==============================] - 2s 4ms/step - loss: 1.3906 - accuracy: 0.2789 - categorical_crossentropy: 1.3906 - val_loss: 1.3857 - val_accuracy: 0.2765 - val_categorical_crossentropy: 1.3857\n",
            "Epoch 4/40\n",
            "625/625 [==============================] - 2s 4ms/step - loss: 1.3819 - accuracy: 0.2922 - categorical_crossentropy: 1.3819 - val_loss: 1.4009 - val_accuracy: 0.2642 - val_categorical_crossentropy: 1.4009\n",
            "Epoch 5/40\n",
            "625/625 [==============================] - 2s 4ms/step - loss: 1.3748 - accuracy: 0.2996 - categorical_crossentropy: 1.3748 - val_loss: 1.4356 - val_accuracy: 0.2562 - val_categorical_crossentropy: 1.4356\n",
            "Epoch 6/40\n",
            "625/625 [==============================] - 2s 3ms/step - loss: 1.3779 - accuracy: 0.3062 - categorical_crossentropy: 1.3779 - val_loss: 1.3911 - val_accuracy: 0.2735 - val_categorical_crossentropy: 1.3911\n",
            "Epoch 7/40\n",
            "625/625 [==============================] - 2s 4ms/step - loss: 1.3636 - accuracy: 0.3177 - categorical_crossentropy: 1.3636 - val_loss: 1.4049 - val_accuracy: 0.2661 - val_categorical_crossentropy: 1.4049\n",
            "Epoch 8/40\n",
            "625/625 [==============================] - 2s 3ms/step - loss: 1.3497 - accuracy: 0.3407 - categorical_crossentropy: 1.3497 - val_loss: 1.4248 - val_accuracy: 0.2644 - val_categorical_crossentropy: 1.4248\n",
            "Epoch 9/40\n",
            "625/625 [==============================] - 2s 3ms/step - loss: 1.3437 - accuracy: 0.3414 - categorical_crossentropy: 1.3437 - val_loss: 1.4302 - val_accuracy: 0.2591 - val_categorical_crossentropy: 1.4302\n",
            "Epoch 10/40\n",
            "625/625 [==============================] - 2s 4ms/step - loss: 1.3312 - accuracy: 0.3628 - categorical_crossentropy: 1.3312 - val_loss: 1.4287 - val_accuracy: 0.2675 - val_categorical_crossentropy: 1.4287\n",
            "Epoch 11/40\n",
            "625/625 [==============================] - 2s 4ms/step - loss: 1.3209 - accuracy: 0.3730 - categorical_crossentropy: 1.3209 - val_loss: 1.4397 - val_accuracy: 0.2634 - val_categorical_crossentropy: 1.4397\n"
          ],
          "name": "stdout"
        },
        {
          "output_type": "display_data",
          "data": {
            "image/png": "[encoded data removed]",
            "text/plain": [
              "<Figure size 432x288 with 1 Axes>"
            ]
          },
          "metadata": {
            "tags": [],
            "needs_background": "light"
          }
        },
        {
          "output_type": "display_data",
          "data": {
            "image/png": "[encoded data removed]",
            "text/plain": [
              "<Figure size 432x288 with 1 Axes>"
            ]
          },
          "metadata": {
            "tags": [],
            "needs_background": "light"
          }
        },
        {
          "output_type": "stream",
          "text": [
            "157/157 [==============================] - 0s 2ms/step - loss: 1.3844 - accuracy: 0.2848 - categorical_crossentropy: 1.3844\n"
          ],
          "name": "stdout"
        }
      ]
    },
    {
      "cell_type": "code",
      "metadata": {
        "id": "dwc4zXL4G_Cr"
      },
      "source": [
        ""
      ],
      "execution_count": null,
      "outputs": []
    }
  ]
}