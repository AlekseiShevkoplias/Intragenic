{
  "nbformat": 4,
  "nbformat_minor": 0,
  "metadata": {
    "colab": {
      "name": "find repeat",
      "provenance": [],
      "collapsed_sections": [],
      "include_colab_link": true
    },
    "kernelspec": {
      "name": "python3",
      "display_name": "Python 3"
    },
    "accelerator": "GPU"
  },
  "cells": [
    {
      "cell_type": "markdown",
      "metadata": {
        "id": "view-in-github",
        "colab_type": "text"
      },
      "source": [
        "<a href=\"https://colab.research.google.com/github/AlekseiShevkoplias/Intragenic/blob/main/find_repeat.ipynb\" target=\"_parent\"><img src=\"https://colab.research.google.com/assets/colab-badge.svg\" alt=\"Open In Colab\"/></a>"
      ]
    },
    {
      "cell_type": "code",
      "metadata": {
        "id": "hvnVd-CkPE0o"
      },
      "source": [
        "import random\n",
        "\n",
        "art_wins = []\n",
        "lets = [\"A\", \"C\", \"U\", \"G\"]\n",
        "\n",
        "def complement(s):\n",
        "    comp = {\"A\":\"U\", \"U\":\"A\", \"C\":\"G\", \"G\":\"C\"}\n",
        "    return(\"\".join([comp[x] for x in s]))\n",
        "\n",
        "def rev_complement(s):\n",
        "    comp = {\"A\":\"U\", \"U\":\"A\", \"C\":\"G\", \"G\":\"C\"}\n",
        "    return(\"\".join([comp[x] for x in s][::-1]))\n",
        "\n",
        "def gen_rand_string():\n",
        "    s = ''\n",
        "    for i in range(201):\n",
        "        s += random.choice(lets)\n",
        "    mid = s[97:104]\n",
        "    i = random.randint(0, len(s))\n",
        "    while (i > 90 and i < 105) or i > 193:\n",
        "        i = random.randint(0, len(s))\n",
        "    s = s[:i] + rev_complement(mid) + s[i+7:] ############\n",
        "    return s"
      ],
      "execution_count": 1,
      "outputs": []
    },
    {
      "cell_type": "code",
      "metadata": {
        "id": "xoyfnkCwQlVi"
      },
      "source": [
        "train_wins = [gen_rand_string() for _ in range(30000)]\n",
        "test_wins = [gen_rand_string() for _ in range(5000)]"
      ],
      "execution_count": null,
      "outputs": []
    },
    {
      "cell_type": "code",
      "metadata": {
        "id": "8W1GFOVRwAsk"
      },
      "source": [
        "import numpy as np\n",
        "\n",
        "def recode_ans(l):\n",
        "    bases_np        = {\n",
        "                        \"A\": np.array([1, 0, 0, 0], dtype = np.float32),\n",
        "                        \"C\": np.array([0, 1, 0, 0], dtype = np.float32),\n",
        "                        \"G\": np.array([0, 0, 1, 0], dtype = np.float32),\n",
        "                        \"U\": np.array([0, 0, 0, 1], dtype = np.float32)\n",
        "                        }\n",
        "\n",
        "    return bases_np[l]\n",
        "\n",
        "def recode_data(s):\n",
        "    bases_dict     = {\"A\": 0, \"C\": 1, \"G\": 2, \"U\": 3}\n",
        "    bases_list = [\"A\", \"C\", \"G\", \"U\"]\n",
        "    seq_np = np.zeros((len(s), 4), dtype = np.float32) \n",
        "    for index in range(len(s)):\n",
        "        base = s[index]\n",
        "        if base in bases_list:\n",
        "            channel = bases_dict[base]\n",
        "            seq_np[index, channel] = 1\n",
        "        else:\n",
        "            if base == \"N\":\n",
        "                continue\n",
        "            print(\"alternative base\", base, \"!\")\n",
        "            return None\n",
        "    return seq_np\n",
        "\n",
        "def recode_data_new(s):\n",
        "    bases_dict     = {\"A\": 0, \"C\": 1, \"G\": 2, \"U\": 3}\n",
        "    bases_list = [\"A\", \"C\", \"G\", \"U\"]\n",
        "    mid = recode_data(s[97:100] + s[101:104])\n",
        "    mid_addition = mid.flatten()\n",
        "\n",
        "    seq_np = np.zeros((len(s), 28), dtype = np.float32) \n",
        "    for index in range(len(s)):\n",
        "        base = s[index]\n",
        "        if base in bases_list:\n",
        "            channel = bases_dict[base]\n",
        "            seq_np[index, channel] = 1\n",
        "        else:\n",
        "            if base == \"N\":\n",
        "                continue\n",
        "            print(\"alternative base\", base, \"!\")\n",
        "            return None\n",
        "        for i in range(4, 28):\n",
        "            seq_np[index, i] = mid_addition[i-4]\n",
        "    return seq_np"
      ],
      "execution_count": null,
      "outputs": []
    },
    {
      "cell_type": "code",
      "metadata": {
        "id": "_lCH-8Faw56S"
      },
      "source": [
        "def recode_samples(train, test):\n",
        "    train_q = np.array([recode_data(x[:100] + \"N\" + x[101:]) for x in train])\n",
        "    train_ans = np.array([recode_ans(x[100]) for x in train])\n",
        "\n",
        "    test_q = np.array([recode_data(x[:100] + \"N\" + x[101:]) for x in test])\n",
        "    test_ans = np.array([recode_ans(x[100]) for x in test])\n",
        "    return train_q, train_ans, test_q, test_ans\n",
        "\n",
        "train_q, train_ans, test_q, test_ans = recode_samples(train_wins, test_wins)"
      ],
      "execution_count": null,
      "outputs": []
    },
    {
      "cell_type": "code",
      "metadata": {
        "id": "DoJ2QNgGhDPd",
        "colab": {
          "base_uri": "https://localhost:8080/"
        },
        "outputId": "996a4806-6f9f-441e-e104-8943fc24d7c6"
      },
      "source": [
        "def show_arr(x):\n",
        "    s = np.sum((i+1)*x[..., i::4] for i in range(4))\n",
        "    for i in range(s.shape[1]):\n",
        "        print(''.join((str(int(c)) for c in s[:, i])))\n",
        "show_arr(train_q[100])\n",
        "train_ans[100]"
      ],
      "execution_count": null,
      "outputs": [
        {
          "output_type": "stream",
          "text": [
            "342221414421224222312144431322313314432331321141123423114311311124241112332323113341113213442133121102241433433112142222223231333224214323242414322231133231412322341214343114114421332424233232224112242\n"
          ],
          "name": "stdout"
        },
        {
          "output_type": "stream",
          "text": [
            "/usr/local/lib/python3.6/dist-packages/ipykernel_launcher.py:2: DeprecationWarning: Calling np.sum(generator) is deprecated, and in the future will give a different result. Use np.sum(np.fromiter(generator)) or the python sum builtin instead.\n",
            "  \n"
          ],
          "name": "stderr"
        },
        {
          "output_type": "execute_result",
          "data": {
            "text/plain": [
              "array([0., 0., 0., 1.], dtype=float32)"
            ]
          },
          "metadata": {
            "tags": []
          },
          "execution_count": 6
        }
      ]
    },
    {
      "cell_type": "code",
      "metadata": {
        "id": "rlMDAkpXudE1"
      },
      "source": [
        "import tensorflow as tf\n",
        "import tensorflow.keras as keras\n",
        "import tensorflow.keras.backend as K\n",
        "from tensorflow.keras.models import Sequential\n",
        "from tensorflow.keras.layers import Conv1D, MaxPool1D\n",
        "from tensorflow.keras.regularizers import l2\n",
        "from tensorflow.keras.layers import Activation, Dropout, Flatten, Dense, Input, GRU, Bidirectional, GlobalAveragePooling1D, GlobalMaxPooling1D, Concatenate, Lambda, Add, Attention\n",
        "from tensorflow.keras.models import Model\n",
        "from tensorflow.keras.optimizers import RMSprop, SGD, Adam\n",
        "from tensorflow.keras.callbacks import EarlyStopping\n",
        "import matplotlib.pyplot as plt"
      ],
      "execution_count": null,
      "outputs": []
    },
    {
      "cell_type": "code",
      "metadata": {
        "id": "2zweJKQvXeZP"
      },
      "source": [
        "val_q, tr_q = train_q[:10000], train_q[10000:]\n",
        "val_ans, tr_ans = train_ans[:10000], train_ans[10000:]"
      ],
      "execution_count": null,
      "outputs": []
    },
    {
      "cell_type": "code",
      "metadata": {
        "id": "hnq3dzizu0Hs",
        "colab": {
          "base_uri": "https://localhost:8080/",
          "height": 1000
        },
        "outputId": "4f9d5db6-e461-4720-acaa-dace426ca5fb"
      },
      "source": [
        "ms = []\n",
        "\n",
        "def run_model():\n",
        "    inp = Input((201, 4))\n",
        "    cur_p = Conv1D(filters=32, kernel_size=10, padding='SAME')(inp)\n",
        "    cur_p2 = Conv1D(filters=32, kernel_size=10, padding='SAME')(inp)\n",
        "    cur = Attention()([cur_p, inp, cur_p2])\n",
        "    cur = Flatten()(cur)\n",
        "    cur = Dense(4, activation='softmax')(cur)\n",
        "    model = Model(inp, cur)\n",
        "\n",
        "    model.compile(optimizer=Adam(lr=0.001), loss='categorical_crossentropy', metrics=['accuracy', 'categorical_crossentropy'])    \n",
        "    model.summary()\n",
        "\n",
        "    es = EarlyStopping(monitor='val_loss', mode='min', patience=8, restore_best_weights=True)\n",
        "    callbacks = []\n",
        "    callbacks.append(es)\n",
        "\n",
        "    history = model.fit(tr_q, tr_ans, epochs=40,  batch_size=32, validation_data=(val_q, val_ans), callbacks=callbacks, verbose=1)\n",
        "    \n",
        "    def show(history, acc_on=True):\n",
        "        for k, v in history.history.items():\n",
        "            if int('acc' not in k) + int(acc_on) == 1:\n",
        "                plt.plot(v, label=k)\n",
        "        plt.legend()\n",
        "        plt.show()\n",
        "    show(history, True)\n",
        "    show(history, False)\n",
        "\n",
        "    ms.append(model)\n",
        "    loss, test_acc, test_cat = model.evaluate(test_q, test_ans, verbose=1)\n",
        "    return test_acc\n",
        "\n",
        "accs = [run_model() for _ in range(1)]"
      ],
      "execution_count": null,
      "outputs": [
        {
          "output_type": "stream",
          "text": [
            "Model: \"functional_1\"\n",
            "__________________________________________________________________________________________________\n",
            "Layer (type)                    Output Shape         Param #     Connected to                     \n",
            "==================================================================================================\n",
            "input_1 (InputLayer)            [(None, 201, 4)]     0                                            \n",
            "__________________________________________________________________________________________________\n",
            "conv1d (Conv1D)                 (None, 201, 32)      1312        input_1[0][0]                    \n",
            "__________________________________________________________________________________________________\n",
            "conv1d_1 (Conv1D)               (None, 201, 32)      1312        input_1[0][0]                    \n",
            "__________________________________________________________________________________________________\n",
            "attention (Attention)           (None, 201, 4)       0           conv1d[0][0]                     \n",
            "                                                                 input_1[0][0]                    \n",
            "                                                                 conv1d_1[0][0]                   \n",
            "__________________________________________________________________________________________________\n",
            "flatten (Flatten)               (None, 804)          0           attention[0][0]                  \n",
            "__________________________________________________________________________________________________\n",
            "dense (Dense)                   (None, 4)            3220        flatten[0][0]                    \n",
            "==================================================================================================\n",
            "Total params: 5,844\n",
            "Trainable params: 5,844\n",
            "Non-trainable params: 0\n",
            "__________________________________________________________________________________________________\n",
            "Epoch 1/40\n",
            "625/625 [==============================] - 3s 5ms/step - loss: 1.3956 - accuracy: 0.2597 - categorical_crossentropy: 1.3956 - val_loss: 1.3984 - val_accuracy: 0.2551 - val_categorical_crossentropy: 1.3984\n",
            "Epoch 2/40\n",
            "625/625 [==============================] - 2s 4ms/step - loss: 1.3936 - accuracy: 0.2693 - categorical_crossentropy: 1.3936 - val_loss: 1.4139 - val_accuracy: 0.2667 - val_categorical_crossentropy: 1.4139\n",
            "Epoch 3/40\n",
            "625/625 [==============================] - 2s 4ms/step - loss: 1.3898 - accuracy: 0.2774 - categorical_crossentropy: 1.3898 - val_loss: 1.4082 - val_accuracy: 0.2698 - val_categorical_crossentropy: 1.4082\n",
            "Epoch 4/40\n",
            "625/625 [==============================] - 2s 4ms/step - loss: 1.3903 - accuracy: 0.2788 - categorical_crossentropy: 1.3903 - val_loss: 1.3867 - val_accuracy: 0.2763 - val_categorical_crossentropy: 1.3867\n",
            "Epoch 5/40\n",
            "625/625 [==============================] - 2s 4ms/step - loss: 1.3809 - accuracy: 0.2903 - categorical_crossentropy: 1.3809 - val_loss: 1.3952 - val_accuracy: 0.2700 - val_categorical_crossentropy: 1.3952\n",
            "Epoch 6/40\n",
            "625/625 [==============================] - 2s 4ms/step - loss: 1.3756 - accuracy: 0.3044 - categorical_crossentropy: 1.3756 - val_loss: 1.4155 - val_accuracy: 0.2579 - val_categorical_crossentropy: 1.4155\n",
            "Epoch 7/40\n",
            "625/625 [==============================] - 2s 4ms/step - loss: 1.3671 - accuracy: 0.3151 - categorical_crossentropy: 1.3671 - val_loss: 1.3918 - val_accuracy: 0.2817 - val_categorical_crossentropy: 1.3918\n",
            "Epoch 8/40\n",
            "625/625 [==============================] - 3s 4ms/step - loss: 1.3518 - accuracy: 0.3369 - categorical_crossentropy: 1.3518 - val_loss: 1.3925 - val_accuracy: 0.2915 - val_categorical_crossentropy: 1.3925\n",
            "Epoch 9/40\n",
            "625/625 [==============================] - 3s 4ms/step - loss: 1.2098 - accuracy: 0.4818 - categorical_crossentropy: 1.2098 - val_loss: 0.8040 - val_accuracy: 0.8189 - val_categorical_crossentropy: 0.8040\n",
            "Epoch 10/40\n",
            "625/625 [==============================] - 3s 4ms/step - loss: 0.4159 - accuracy: 0.9602 - categorical_crossentropy: 0.4159 - val_loss: 0.2477 - val_accuracy: 0.9847 - val_categorical_crossentropy: 0.2477\n",
            "Epoch 11/40\n",
            "625/625 [==============================] - 3s 4ms/step - loss: 0.1752 - accuracy: 0.9859 - categorical_crossentropy: 0.1752 - val_loss: 0.1404 - val_accuracy: 0.9850 - val_categorical_crossentropy: 0.1404\n",
            "Epoch 12/40\n",
            "625/625 [==============================] - 2s 4ms/step - loss: 0.1061 - accuracy: 0.9889 - categorical_crossentropy: 0.1061 - val_loss: 0.0978 - val_accuracy: 0.9851 - val_categorical_crossentropy: 0.0978\n",
            "Epoch 13/40\n",
            "625/625 [==============================] - 2s 4ms/step - loss: 0.0736 - accuracy: 0.9912 - categorical_crossentropy: 0.0736 - val_loss: 0.0780 - val_accuracy: 0.9839 - val_categorical_crossentropy: 0.0780\n",
            "Epoch 14/40\n",
            "625/625 [==============================] - 3s 4ms/step - loss: 0.0543 - accuracy: 0.9927 - categorical_crossentropy: 0.0543 - val_loss: 0.0654 - val_accuracy: 0.9838 - val_categorical_crossentropy: 0.0654\n",
            "Epoch 15/40\n",
            "625/625 [==============================] - 3s 4ms/step - loss: 0.0421 - accuracy: 0.9936 - categorical_crossentropy: 0.0421 - val_loss: 0.0591 - val_accuracy: 0.9838 - val_categorical_crossentropy: 0.0591\n",
            "Epoch 16/40\n",
            "625/625 [==============================] - 3s 4ms/step - loss: 0.0328 - accuracy: 0.9954 - categorical_crossentropy: 0.0328 - val_loss: 0.0559 - val_accuracy: 0.9836 - val_categorical_crossentropy: 0.0559\n",
            "Epoch 17/40\n",
            "625/625 [==============================] - 3s 4ms/step - loss: 0.0260 - accuracy: 0.9963 - categorical_crossentropy: 0.0260 - val_loss: 0.0547 - val_accuracy: 0.9834 - val_categorical_crossentropy: 0.0547\n",
            "Epoch 18/40\n",
            "625/625 [==============================] - 2s 4ms/step - loss: 0.0206 - accuracy: 0.9970 - categorical_crossentropy: 0.0206 - val_loss: 0.0538 - val_accuracy: 0.9835 - val_categorical_crossentropy: 0.0538\n",
            "Epoch 19/40\n",
            "625/625 [==============================] - 3s 4ms/step - loss: 0.0164 - accuracy: 0.9981 - categorical_crossentropy: 0.0164 - val_loss: 0.0545 - val_accuracy: 0.9836 - val_categorical_crossentropy: 0.0545\n",
            "Epoch 20/40\n",
            "625/625 [==============================] - 3s 4ms/step - loss: 0.0130 - accuracy: 0.9987 - categorical_crossentropy: 0.0130 - val_loss: 0.0562 - val_accuracy: 0.9827 - val_categorical_crossentropy: 0.0562\n",
            "Epoch 21/40\n",
            "625/625 [==============================] - 2s 4ms/step - loss: 0.0106 - accuracy: 0.9991 - categorical_crossentropy: 0.0106 - val_loss: 0.0569 - val_accuracy: 0.9838 - val_categorical_crossentropy: 0.0569\n",
            "Epoch 22/40\n",
            "625/625 [==============================] - 2s 4ms/step - loss: 0.0086 - accuracy: 0.9995 - categorical_crossentropy: 0.0086 - val_loss: 0.0601 - val_accuracy: 0.9830 - val_categorical_crossentropy: 0.0601\n",
            "Epoch 23/40\n",
            "625/625 [==============================] - 3s 4ms/step - loss: 0.0074 - accuracy: 0.9992 - categorical_crossentropy: 0.0074 - val_loss: 0.0635 - val_accuracy: 0.9829 - val_categorical_crossentropy: 0.0635\n",
            "Epoch 24/40\n",
            "625/625 [==============================] - 2s 4ms/step - loss: 0.0060 - accuracy: 0.9998 - categorical_crossentropy: 0.0060 - val_loss: 0.0631 - val_accuracy: 0.9826 - val_categorical_crossentropy: 0.0631\n",
            "Epoch 25/40\n",
            "625/625 [==============================] - 2s 4ms/step - loss: 0.0048 - accuracy: 0.9998 - categorical_crossentropy: 0.0048 - val_loss: 0.0677 - val_accuracy: 0.9826 - val_categorical_crossentropy: 0.0677\n",
            "Epoch 26/40\n",
            "625/625 [==============================] - 2s 4ms/step - loss: 0.0045 - accuracy: 0.9997 - categorical_crossentropy: 0.0045 - val_loss: 0.0698 - val_accuracy: 0.9830 - val_categorical_crossentropy: 0.0698\n"
          ],
          "name": "stdout"
        },
        {
          "output_type": "display_data",
          "data": {
            "image/png": "[encoded data removed]",
            "text/plain": [
              "<Figure size 432x288 with 1 Axes>"
            ]
          },
          "metadata": {
            "tags": [],
            "needs_background": "light"
          }
        },
        {
          "output_type": "display_data",
          "data": {
            "image/png": "[encoded data removed]",
            "text/plain": [
              "<Figure size 432x288 with 1 Axes>"
            ]
          },
          "metadata": {
            "tags": [],
            "needs_background": "light"
          }
        },
        {
          "output_type": "stream",
          "text": [
            "157/157 [==============================] - 0s 3ms/step - loss: 0.0477 - accuracy: 0.9848 - categorical_crossentropy: 0.0477\n"
          ],
          "name": "stdout"
        }
      ]
    },
    {
      "cell_type": "code",
      "metadata": {
        "id": "dwc4zXL4G_Cr"
      },
      "source": [
        ""
      ],
      "execution_count": null,
      "outputs": []
    }
  ]
}